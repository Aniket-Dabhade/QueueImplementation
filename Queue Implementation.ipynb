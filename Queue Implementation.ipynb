{
 "cells": [
  {
   "cell_type": "code",
   "execution_count": null,
   "id": "6fe0744c",
   "metadata": {},
   "outputs": [
    {
     "name": "stdout",
     "output_type": "stream",
     "text": [
      "\n",
      "    1 Insert Element to Queue\n",
      "    2 Delete element from Queue\n",
      "    3 Last Queue value \n",
      "    4 Display the Queue \n",
      "    5 Exit    \n",
      "        1\n",
      "Enter a value to insert :- 14\n",
      "['14']\n",
      "\n",
      "    1 Insert Element to Queue\n",
      "    2 Delete element from Queue\n",
      "    3 Last Queue value \n",
      "    4 Display the Queue \n",
      "    5 Exit    \n",
      "        1\n",
      "Enter a value to insert :- 154\n",
      "['14', '154']\n",
      "\n",
      "    1 Insert Element to Queue\n",
      "    2 Delete element from Queue\n",
      "    3 Last Queue value \n",
      "    4 Display the Queue \n",
      "    5 Exit    \n",
      "        2\n",
      "['154']\n"
     ]
    }
   ],
   "source": [
    "l=[]\n",
    "while True :\n",
    "    c=int(input('''\n",
    "    1 Insert Element to Queue\n",
    "    2 Delete element from Queue\n",
    "    3 Last Queue value \n",
    "    4 Display the Queue \n",
    "    5 Exit    \n",
    "        '''))\n",
    "    if c==1 :\n",
    "        n=input(\"Enter a value to insert :- \");\n",
    "        l.append(n)\n",
    "        print(l)\n",
    "    elif c==2 :\n",
    "     if len(l)==0 :\n",
    "        print(\"List is empty\")\n",
    "     else:\n",
    "        del l[0]\n",
    "       \n",
    "        print(l)\n",
    "    elif c==3 :\n",
    "        if len(l) == 0:\n",
    "            print(\"List is empty\")\n",
    "        else :\n",
    "            print(\"Last Queue value is :- \",l[-1])\n",
    "    elif c==4 :\n",
    "        print(l)\n",
    "    elif c==5 :\n",
    "        break;\n",
    "    else :\n",
    "        print(\"Invalid operation\")"
   ]
  },
  {
   "cell_type": "code",
   "execution_count": null,
   "id": "39985743",
   "metadata": {},
   "outputs": [],
   "source": []
  }
 ],
 "metadata": {
  "kernelspec": {
   "display_name": "Python 3 (ipykernel)",
   "language": "python",
   "name": "python3"
  },
  "language_info": {
   "codemirror_mode": {
    "name": "ipython",
    "version": 3
   },
   "file_extension": ".py",
   "mimetype": "text/x-python",
   "name": "python",
   "nbconvert_exporter": "python",
   "pygments_lexer": "ipython3",
   "version": "3.9.7"
  }
 },
 "nbformat": 4,
 "nbformat_minor": 5
}
